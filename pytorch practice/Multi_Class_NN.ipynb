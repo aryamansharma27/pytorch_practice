{
 "cells": [
  {
   "cell_type": "code",
   "execution_count": 130,
   "id": "de4b810a-cb9b-4a6f-8dfe-e870aa112fc7",
   "metadata": {
    "tags": []
   },
   "outputs": [],
   "source": [
    "import torch \n",
    "import torch.nn as nn\n",
    "import torchvision.transforms as transforms\n",
    "import torchvision.datasets as dsets\n",
    "import torch.nn.functional as F\n",
    "import matplotlib.pylab as plt\n",
    "import numpy as np"
   ]
  },
  {
   "cell_type": "code",
   "execution_count": 131,
   "id": "a85d64eb-8cc0-45c7-9ed3-91bd628b3192",
   "metadata": {
    "tags": []
   },
   "outputs": [
    {
     "name": "stdout",
     "output_type": "stream",
     "text": [
      "Using cuda device\n"
     ]
    }
   ],
   "source": [
    "device = (\n",
    "    \"cuda\"\n",
    "    if torch.cuda.is_available()\n",
    "    else \"mps\"\n",
    "    if torch.backends.mps.is_available()\n",
    "    else \"cpu\"\n",
    ")\n",
    "print(f\"Using {device} device\")"
   ]
  },
  {
   "cell_type": "code",
   "execution_count": 132,
   "id": "1d42f3f2-fdfe-4a46-8feb-387f5e926de0",
   "metadata": {
    "tags": []
   },
   "outputs": [],
   "source": [
    "class Net(nn.Module):\n",
    "    def __init__(self, D_in, H, D_out):\n",
    "        super(Net, self).__init__()\n",
    "        self.linear1 = nn.Linear(D_in, H)\n",
    "        self.linear2 = nn.Linear(H, D_out)\n",
    "        \n",
    "    def forward(self, x):\n",
    "        x =  torch.relu(self.linear1(x))\n",
    "        x = self.linear2(x)\n",
    "        return x"
   ]
  },
  {
   "cell_type": "code",
   "execution_count": 133,
   "id": "e56cf907-fb73-4f34-9d96-4efc560f82fe",
   "metadata": {
    "tags": []
   },
   "outputs": [],
   "source": [
    "def plot_accuracy_loss(training_result):\n",
    "    plt.subplot(1, 2, 1)\n",
    "    plt.plot(training_results['training loss'], 'r')\n",
    "    plt.ylabel('loss')\n",
    "    plt.title('training loss iterations')\n",
    "    plt.subplot(2, 1, 2)\n",
    "    plt.plot(training_results['validation accuracy'])\n",
    "    plt.ylabel('accuracy')\n",
    "    plt.xlabel('epochs')   \n",
    "    plt.show()"
   ]
  },
  {
   "cell_type": "code",
   "execution_count": 134,
   "id": "9dbb2304-2e0b-4632-b87f-d06608308b63",
   "metadata": {
    "tags": []
   },
   "outputs": [],
   "source": [
    "def print_model_parameters(model):\n",
    "    count = 0\n",
    "    for ele in model.state_dict():\n",
    "        count += 1\n",
    "        if count % 2 != 0:\n",
    "            print(\"The following are the parameters for the layer \", count // 2 + 1)\n",
    "        if ele.find(\"bias\") != -1:\n",
    "            print(\"The size of bias: \", model.state_dict()[ele].size())\n",
    "        else:\n",
    "            print(\"The size of weights: \", model.state_dict()[ele].size())"
   ]
  },
  {
   "cell_type": "code",
   "execution_count": 135,
   "id": "add66437-118c-4dab-b7b5-38bb8f812bd2",
   "metadata": {
    "tags": []
   },
   "outputs": [],
   "source": [
    "def show_data(data_sample):\n",
    "    plt.imshow(data_sample.numpy().reshape(28, 28), cmap = \"gray\")\n",
    "    plt.show()"
   ]
  },
  {
   "cell_type": "code",
   "execution_count": 136,
   "id": "4eb236af-03e4-4186-bc27-26f27c3ac8d6",
   "metadata": {
    "tags": []
   },
   "outputs": [],
   "source": [
    "def train(model, criterion, train_loader, validation_loader, optimizer, epochs = 100):\n",
    "    i = 0\n",
    "    useful_stuff = {'training loss': [], 'validation accuracy': []}\n",
    "    for epoch in range(epochs):\n",
    "        for i, (x, y) in enumerate(train_loader):\n",
    "            optimizer.zero_grad()\n",
    "            z = model(x.view(-1, 28*28))\n",
    "            \n",
    "            loss = criterion(z, y)\n",
    "            loss.backward()\n",
    "            \n",
    "            optimizer.step()\n",
    "            \n",
    "            useful_stuff['training loss'].append(loss.data.item())\n",
    "            \n",
    "        print(\"epoch: \", epoch,\"/\",epochs,\"  loss: \", loss.data.item())\n",
    "            \n",
    "        correct = 0\n",
    "        \n",
    "        for x, y in validation_loader:\n",
    "            \n",
    "            z = model(x.view(-1, 28*28))\n",
    "            _, label = torch.max(z, 1)\n",
    "            \n",
    "            correct += (label == y).sum().item()\n",
    "            \n",
    "        accuracy = 100 * (correct/len(validation_dataset))\n",
    "        \n",
    "        useful_stuff['validation accuracy'].append(accuracy)\n",
    "        \n",
    "    return useful_stuff\n",
    "                          \n",
    "            "
   ]
  },
  {
   "cell_type": "code",
   "execution_count": 137,
   "id": "fb0c0a31-2743-4bce-9314-941d01145803",
   "metadata": {
    "tags": []
   },
   "outputs": [],
   "source": [
    "train_dataset = dsets.MNIST(root = './data', train=True, download = True, transform = transforms.ToTensor())"
   ]
  },
  {
   "cell_type": "code",
   "execution_count": 138,
   "id": "656ec7a6-a97a-454a-adb4-309c1aee58cc",
   "metadata": {},
   "outputs": [],
   "source": [
    "validation_dataset = dsets.MNIST(root = './data', download = True, transform = transforms.ToTensor())"
   ]
  },
  {
   "cell_type": "code",
   "execution_count": 139,
   "id": "80c386cb-b9eb-43f5-a711-f962be465d5d",
   "metadata": {
    "tags": []
   },
   "outputs": [],
   "source": [
    "train_loader = torch.utils.data.DataLoader(dataset = train_dataset, batch_size = 2000, shuffle = True)\n",
    "validation_loader = torch.utils.data.DataLoader(dataset = validation_dataset, batch_size = 5000, shuffle = False) "
   ]
  },
  {
   "cell_type": "code",
   "execution_count": 140,
   "id": "b0846743-568c-482a-b568-06cbd3d30e83",
   "metadata": {
    "tags": []
   },
   "outputs": [],
   "source": [
    "input_dim = 28*28\n",
    "hidden_dim = 100\n",
    "output_dim = 10\n",
    "\n",
    "model = Net(input_dim, hidden_dim, output_dim)"
   ]
  },
  {
   "cell_type": "code",
   "execution_count": 141,
   "id": "2efcc87b-469d-41a8-85d4-3d9a0e7c0ccf",
   "metadata": {
    "tags": []
   },
   "outputs": [],
   "source": [
    "criterion = nn.CrossEntropyLoss()"
   ]
  },
  {
   "cell_type": "code",
   "execution_count": 142,
   "id": "d8f94806-f791-41d4-a3a9-5e7aee3c6452",
   "metadata": {
    "tags": []
   },
   "outputs": [
    {
     "name": "stdout",
     "output_type": "stream",
     "text": [
      "The following are the parameters for the layer  1\n",
      "The size of weights:  torch.Size([100, 784])\n",
      "The size of bias:  torch.Size([100])\n",
      "The following are the parameters for the layer  2\n",
      "The size of weights:  torch.Size([10, 100])\n",
      "The size of bias:  torch.Size([10])\n"
     ]
    }
   ],
   "source": [
    "print_model_parameters(model)"
   ]
  },
  {
   "cell_type": "code",
   "execution_count": 143,
   "id": "47b339db-8066-4504-9471-773a045ef976",
   "metadata": {
    "tags": []
   },
   "outputs": [],
   "source": [
    "learning_rate = 0.01\n",
    "optimizer = torch.optim.SGD(model.parameters(), lr = learning_rate)"
   ]
  },
  {
   "cell_type": "code",
   "execution_count": 144,
   "id": "7c8ec3b7-a5b5-458a-94fb-bdc3c65314f6",
   "metadata": {
    "tags": []
   },
   "outputs": [
    {
     "name": "stdout",
     "output_type": "stream",
     "text": [
      "epoch:  0 / 10   loss:  2.26084566116333\n",
      "epoch:  1 / 10   loss:  2.206244945526123\n",
      "epoch:  2 / 10   loss:  2.1394622325897217\n",
      "epoch:  3 / 10   loss:  2.070553779602051\n",
      "epoch:  4 / 10   loss:  1.9853497743606567\n",
      "epoch:  5 / 10   loss:  1.8979346752166748\n",
      "epoch:  6 / 10   loss:  1.8130015134811401\n",
      "epoch:  7 / 10   loss:  1.70972740650177\n",
      "epoch:  8 / 10   loss:  1.6065183877944946\n",
      "epoch:  9 / 10   loss:  1.5128834247589111\n"
     ]
    }
   ],
   "source": [
    "training_results = train(model, criterion, train_loader, validation_loader, optimizer, epochs = 10) "
   ]
  },
  {
   "cell_type": "code",
   "execution_count": 145,
   "id": "5be037e5-ace7-4598-b13d-3ebf845edd2b",
   "metadata": {
    "tags": []
   },
   "outputs": [
    {
     "name": "stderr",
     "output_type": "stream",
     "text": [
      "/tmp/ipykernel_7114/689836694.py:6: MatplotlibDeprecationWarning: Auto-removal of overlapping axes is deprecated since 3.6 and will be removed two minor releases later; explicitly call ax.remove() as needed.\n",
      "  plt.subplot(2, 1, 2)\n"
     ]
    },
    {
     "data": {
      "image/png": "[encoded data removed]",
      "text/plain": [
       "<Figure size 640x480 with 1 Axes>"
      ]
     },
     "metadata": {},
     "output_type": "display_data"
    }
   ],
   "source": [
    "plot_accuracy_loss(training_results)"
   ]
  },
  {
   "cell_type": "code",
   "execution_count": 146,
   "id": "5d17e943-0d3a-4920-b69b-3eb165859273",
   "metadata": {
    "tags": []
   },
   "outputs": [
    {
     "data": {
      "image/png": "[encoded data removed]",
      "text/plain": [
       "<Figure size 640x480 with 1 Axes>"
      ]
     },
     "metadata": {},
     "output_type": "display_data"
    },
    {
     "data": {
      "image/png": "[encoded data removed]",
      "text/plain": [
       "<Figure size 640x480 with 1 Axes>"
      ]
     },
     "metadata": {},
     "output_type": "display_data"
    },
    {
     "data": {
      "image/png": "[encoded data removed]",
      "text/plain": [
       "<Figure size 640x480 with 1 Axes>"
      ]
     },
     "metadata": {},
     "output_type": "display_data"
    },
    {
     "data": {
      "image/png": "[encoded data removed]",
      "text/plain": [
       "<Figure size 640x480 with 1 Axes>"
      ]
     },
     "metadata": {},
     "output_type": "display_data"
    },
    {
     "data": {
      "image/png": "[encoded data removed]",
      "text/plain": [
       "<Figure size 640x480 with 1 Axes>"
      ]
     },
     "metadata": {},
     "output_type": "display_data"
    }
   ],
   "source": [
    "count = 0\n",
    "for x, y in validation_dataset: \n",
    "    z = model(x.reshape(-1, 28*28))\n",
    "    _, yhat = torch.max(z, 1)\n",
    "    \n",
    "    if yhat != y:\n",
    "        show_data(x)\n",
    "        count += 1\n",
    "    if count >= 5:\n",
    "        break\n",
    "    "
   ]
  },
  {
   "cell_type": "code",
   "execution_count": 147,
   "id": "14bf403b-c8c1-473a-9e83-01629f7e2213",
   "metadata": {
    "tags": []
   },
   "outputs": [
    {
     "name": "stdout",
     "output_type": "stream",
     "text": [
      "74.49666666666667\n"
     ]
    }
   ],
   "source": [
    "print(np.max(training_results['validation accuracy']))"
   ]
  },
  {
   "cell_type": "code",
   "execution_count": null,
   "id": "2fac6df4-9877-4038-afc8-9dee1eff46f7",
   "metadata": {},
   "outputs": [],
   "source": []
  }
 ],
 "metadata": {
  "kernelspec": {
   "display_name": "Python 3 (ipykernel)",
   "language": "python",
   "name": "python3"
  },
  "language_info": {
   "codemirror_mode": {
    "name": "ipython",
    "version": 3
   },
   "file_extension": ".py",
   "mimetype": "text/x-python",
   "name": "python",
   "nbconvert_exporter": "python",
   "pygments_lexer": "ipython3",
   "version": "3.8.10"
  }
 },
 "nbformat": 4,
 "nbformat_minor": 5
}
