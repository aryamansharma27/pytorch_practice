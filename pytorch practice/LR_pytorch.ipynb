{
 "cells": [
  {
   "cell_type": "code",
   "execution_count": 1,
   "id": "53b1c80d-3bda-48ff-a28f-8a2ab1467aee",
   "metadata": {
    "tags": []
   },
   "outputs": [],
   "source": [
    "import torch\n",
    "from torch import nn"
   ]
  },
  {
   "cell_type": "code",
   "execution_count": 2,
   "id": "cbb3538b-209a-4750-b5e3-7d3dbbb5b108",
   "metadata": {
    "tags": []
   },
   "outputs": [],
   "source": [
    "class LR(nn.Module):\n",
    "    def __init__(self, input_size, output_size):\n",
    "        super(LR, self).__init__()\n",
    "        self.linear = nn.Linear(input_size, output_size)\n",
    "        \n",
    "    def forward(self, X):\n",
    "        out = self.linear(x)\n",
    "        return out"
   ]
  },
  {
   "cell_type": "code",
   "execution_count": 3,
   "id": "5a866fd9-dbb0-434f-bfcc-7b43f377cd4d",
   "metadata": {
    "tags": []
   },
   "outputs": [],
   "source": [
    "linear = LR(2, 5)"
   ]
  },
  {
   "cell_type": "code",
   "execution_count": 4,
   "id": "6efc0d1a-f50d-4458-95c5-f1c64bc5cbb4",
   "metadata": {
    "tags": []
   },
   "outputs": [],
   "source": [
    "x = torch.randn(3, 2)"
   ]
  },
  {
   "cell_type": "code",
   "execution_count": 14,
   "id": "1f5240bc-d96a-4f19-95d5-c090e6e6792c",
   "metadata": {
    "tags": []
   },
   "outputs": [
    {
     "name": "stdout",
     "output_type": "stream",
     "text": [
      "tensor([[-0.1196, -0.2632, -0.1057,  0.3908, -0.0705],\n",
      "        [ 0.5627, -0.5166, -0.4399,  0.8175, -0.4113],\n",
      "        [ 0.0865, -0.3345, -0.1595,  0.4846, -0.1683]],\n",
      "       grad_fn=<AddmmBackward0>)\n",
      "shape:  [3, 5]\n"
     ]
    }
   ],
   "source": [
    "yhat = linear(x)\n",
    "print(yhat)\n",
    "print(\"shape: \", list(yhat.shape))"
   ]
  },
  {
   "cell_type": "code",
   "execution_count": 133,
   "id": "0c4fe402-2a25-451b-b0c5-ef370bed2a1a",
   "metadata": {
    "tags": []
   },
   "outputs": [],
   "source": [
    "X = torch.arange(-3, 3, 0.1).view(-1, 1)\n",
    "f = 1*X - 1"
   ]
  },
  {
   "cell_type": "code",
   "execution_count": 134,
   "id": "05564161-54f6-4b02-a837-36eea36764ca",
   "metadata": {
    "tags": []
   },
   "outputs": [],
   "source": [
    "Y = f + 0.1 + torch.randn(X.size())"
   ]
  },
  {
   "cell_type": "code",
   "execution_count": 135,
   "id": "0ef0f668-88a7-4497-b7be-64563137e6d5",
   "metadata": {
    "tags": []
   },
   "outputs": [],
   "source": [
    "def forward(x):\n",
    "    return w*x + b"
   ]
  },
  {
   "cell_type": "code",
   "execution_count": 136,
   "id": "33116369-2588-49e0-9bc8-654ce68b0201",
   "metadata": {
    "tags": []
   },
   "outputs": [],
   "source": [
    "def criterion(yhat, y):\n",
    "    return torch.mean((yhat-y)**2)"
   ]
  },
  {
   "cell_type": "code",
   "execution_count": 137,
   "id": "c788504b-07c5-4f3a-801c-51d9882aa259",
   "metadata": {
    "tags": []
   },
   "outputs": [],
   "source": [
    "w = torch.tensor(-15.0, requires_grad = True)\n",
    "b = torch.tensor(-10.0, requires_grad = True)"
   ]
  },
  {
   "cell_type": "code",
   "execution_count": 138,
   "id": "b2e45061-ef26-4a0b-99e4-c48c1a39331e",
   "metadata": {
    "tags": []
   },
   "outputs": [],
   "source": [
    "lr = 0.1\n",
    "LOSS = []\n",
    "import numpy as np"
   ]
  },
  {
   "cell_type": "code",
   "execution_count": 139,
   "id": "48d8b336-7ef8-4570-b86d-23c742c082fb",
   "metadata": {
    "tags": []
   },
   "outputs": [],
   "source": [
    "def train_model(iter):\n",
    "    for epoch in range(iter):\n",
    "        Yhat = forward(X)\n",
    "        loss = criterion(Yhat, Y)\n",
    "        \n",
    "        LOSS.append([loss, epoch])\n",
    "        \n",
    "        loss.backward()\n",
    "        \n",
    "        w.data = w.data - lr*w.grad.data\n",
    "        b.data = b.data - lr*b.grad.data\n",
    "        \n",
    "        w.grad.data.zero_()\n",
    "        b.grad.data.zero_()\n",
    "        \n",
    "        \n",
    "        \n",
    "    return torch.mean((Yhat-Y)**2)"
   ]
  },
  {
   "cell_type": "code",
   "execution_count": 140,
   "id": "92ce33b7-9ad2-4285-ad24-50d1aa5e563c",
   "metadata": {
    "tags": []
   },
   "outputs": [
    {
     "data": {
      "text/plain": [
       "tensor(0.7784, grad_fn=<MeanBackward0>)"
      ]
     },
     "execution_count": 140,
     "metadata": {},
     "output_type": "execute_result"
    }
   ],
   "source": [
    "train_model(200)"
   ]
  },
  {
   "cell_type": "code",
   "execution_count": 100,
   "id": "ec0aa902-01b7-452c-9caf-990def2ab24a",
   "metadata": {
    "tags": []
   },
   "outputs": [],
   "source": []
  },
  {
   "cell_type": "code",
   "execution_count": null,
   "id": "1e5ab6d8-dff1-486f-815a-7441665fecc8",
   "metadata": {},
   "outputs": [],
   "source": []
  }
 ],
 "metadata": {
  "kernelspec": {
   "display_name": "Python 3 (ipykernel)",
   "language": "python",
   "name": "python3"
  },
  "language_info": {
   "codemirror_mode": {
    "name": "ipython",
    "version": 3
   },
   "file_extension": ".py",
   "mimetype": "text/x-python",
   "name": "python",
   "nbconvert_exporter": "python",
   "pygments_lexer": "ipython3",
   "version": "3.8.10"
  }
 },
 "nbformat": 4,
 "nbformat_minor": 5
}
