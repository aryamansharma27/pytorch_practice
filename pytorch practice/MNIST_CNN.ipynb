{
 "cells": [
  {
   "cell_type": "code",
   "execution_count": 1,
   "id": "46273699-3aab-49bc-9112-3db74c31ed35",
   "metadata": {},
   "outputs": [],
   "source": [
    "import torch\n",
    "import torch.nn as nn\n",
    "import torchvision.transforms as transforms\n",
    "import torchvision.datasets as dsets\n",
    "import matplotlib.pyplot as plt \n",
    "import numpy as np\n",
    "import cv2 as cv\n",
    "import random"
   ]
  },
  {
   "cell_type": "code",
   "execution_count": 2,
   "id": "7e5a472c-b8cf-480f-b641-a3ee61ff3477",
   "metadata": {
    "tags": []
   },
   "outputs": [],
   "source": [
    "img_size = 16\n",
    "\n",
    "composed = transforms.Compose([transforms.Resize((img_size, img_size)), transforms.ToTensor()])"
   ]
  },
  {
   "cell_type": "code",
   "execution_count": 3,
   "id": "625a044b-8b33-430c-9341-de6af069e736",
   "metadata": {
    "tags": []
   },
   "outputs": [],
   "source": [
    "train_dataset = dsets.FashionMNIST(root = './data', train = True, download = True, transform = composed)"
   ]
  },
  {
   "cell_type": "code",
   "execution_count": 4,
   "id": "2b4f20e3-3399-487d-badf-d00894737fca",
   "metadata": {
    "tags": []
   },
   "outputs": [],
   "source": [
    "validation_dataset = dsets.FashionMNIST(root = './data', train = False, download = True, transform = composed)"
   ]
  },
  {
   "cell_type": "code",
   "execution_count": 5,
   "id": "cff08021-383e-4167-8c0b-b712fc078ca6",
   "metadata": {
    "tags": []
   },
   "outputs": [
    {
     "data": {
      "text/plain": [
       "60000"
      ]
     },
     "execution_count": 5,
     "metadata": {},
     "output_type": "execute_result"
    }
   ],
   "source": [
    "len(train_dataset)"
   ]
  },
  {
   "cell_type": "code",
   "execution_count": 6,
   "id": "d939ec1c-19bd-46dc-9238-34cfa1ce305b",
   "metadata": {
    "tags": []
   },
   "outputs": [
    {
     "data": {
      "text/plain": [
       "10000"
      ]
     },
     "execution_count": 6,
     "metadata": {},
     "output_type": "execute_result"
    }
   ],
   "source": [
    "len(validation_dataset)"
   ]
  },
  {
   "cell_type": "code",
   "execution_count": 7,
   "id": "66917851-0bb0-47c0-8697-98dfc9bc2411",
   "metadata": {
    "tags": []
   },
   "outputs": [
    {
     "data": {
      "text/plain": [
       "3"
      ]
     },
     "execution_count": 7,
     "metadata": {},
     "output_type": "execute_result"
    }
   ],
   "source": [
    "train_dataset[3][1]  #label for the fourth element"
   ]
  },
  {
   "cell_type": "code",
   "execution_count": 8,
   "id": "a7dc78f2-710e-4f44-983e-0e1b785b938b",
   "metadata": {
    "tags": []
   },
   "outputs": [],
   "source": [
    "def show_data(data_sample):\n",
    "    plt.imshow(data_sample[0].numpy().reshape(img_size, img_size), cmap = 'gray')\n",
    "    plt.title('y = '+ classes[data_sample[1]])"
   ]
  },
  {
   "cell_type": "code",
   "execution_count": 9,
   "id": "f9bc623a-a72f-46f9-ad67-bb6968641dc5",
   "metadata": {
    "tags": []
   },
   "outputs": [],
   "source": [
    "classes = ['T-shirt/top'\n",
    "           ,'Trouser'\n",
    "           ,'Pullover'\n",
    "           ,'Dress'\n",
    "           ,'Coat'\n",
    "           ,'Sandal'\n",
    "           ,'Shirt'\n",
    "           ,'Sneaker'\n",
    "           ,'Bag'\n",
    "           ,'Ankle boot']"
   ]
  },
  {
   "cell_type": "code",
   "execution_count": 10,
   "id": "5517d4e7-1394-42e5-9a8d-54a2cd00dfa7",
   "metadata": {
    "tags": []
   },
   "outputs": [
    {
     "data": {
      "image/png": "[encoded data removed]",
      "text/plain": [
       "<Figure size 640x480 with 1 Axes>"
      ]
     },
     "metadata": {},
     "output_type": "display_data"
    }
   ],
   "source": [
    "rand = random.randrange(0, 100)\n",
    "show_data(train_dataset[rand])"
   ]
  },
  {
   "cell_type": "code",
   "execution_count": 11,
   "id": "ef112169-ddfd-4208-a717-2ec1f4efed5c",
   "metadata": {
    "tags": []
   },
   "outputs": [],
   "source": [
    "class CNN(nn.Module):\n",
    "    def __init__(self, out_1 = 16, out_2 = 32):\n",
    "        super(CNN, self).__init__()\n",
    "        self.cnn1 = nn.Conv2d(in_channels = 1, out_channels = out_1, kernel_size = 5, padding = 2)\n",
    "        self.maxpool1 = nn.MaxPool2d(kernel_size = 2)\n",
    "        \n",
    "        self.cnn2 = nn.Conv2d(in_channels = out_1, out_channels = out_2, kernel_size = 5, stride = 1, padding = 2)\n",
    "        self.maxpool2 = nn.MaxPool2d(kernel_size = 2)\n",
    "        \n",
    "        self.linear1 = nn.Linear(out_2*4*4, 10)\n",
    "        \n",
    "    def forward(self, x):\n",
    "        x = self.cnn1(x)\n",
    "        x = torch.relu(x)\n",
    "        x = self.maxpool1(x)\n",
    "        \n",
    "        x = self.cnn2(x)\n",
    "        x = torch.relu(x)\n",
    "        x = self.maxpool2(x)\n",
    "        \n",
    "        x = x.view(x.size(0), -1)\n",
    "        \n",
    "        x = self.linear1(x)\n",
    "        \n",
    "        return x\n",
    "\n",
    "        "
   ]
  },
  {
   "cell_type": "code",
   "execution_count": 12,
   "id": "8fc2c4e7-553e-45c6-83ff-033b927e3519",
   "metadata": {
    "tags": []
   },
   "outputs": [],
   "source": [
    "model = CNN(out_1 = 16, out_2 = 32)"
   ]
  },
  {
   "cell_type": "code",
   "execution_count": 65,
   "id": "aba2111b-103e-4b54-bbdf-72e5e0640704",
   "metadata": {
    "tags": []
   },
   "outputs": [],
   "source": [
    "criterion = nn.CrossEntropyLoss()\n",
    "learning_rate = 0.001\n",
    "optimizer = torch.optim.Adam(model.parameters(), lr = learning_rate)\n",
    "\n",
    "train_loader = torch.utils.data.DataLoader(dataset = train_dataset, batch_size = 100)\n",
    "validation_loader = torch.utils.data.DataLoader(dataset  = validation_dataset, batch_size = 5000)"
   ]
  },
  {
   "cell_type": "code",
   "execution_count": 66,
   "id": "b4d270fe-4c97-43a8-8523-7d2bd8859c00",
   "metadata": {
    "tags": []
   },
   "outputs": [],
   "source": [
    "n_epochs = 5\n",
    "cost_list = []\n",
    "accuracy_list = []\n",
    "N_test = len(validation_dataset)\n",
    "COST = 0\n",
    "\n",
    "def train_model(n_epochs):\n",
    "    for epoch in range(n_epochs):\n",
    "        COST = 0\n",
    "        for x, y in train_loader:\n",
    "            optimizer.zero_grad()\n",
    "            z = model(x)\n",
    "            \n",
    "            loss = criterion(z, y)\n",
    "            loss.backward()\n",
    "            \n",
    "            optimizer.step()\n",
    "            \n",
    "            COST += loss.data\n",
    "        \n",
    "        cost_list.append(COST)\n",
    "        \n",
    "        correct = 0\n",
    "        \n",
    "        for x_test, y_test in validation_loader:\n",
    "            z = model(x_test)\n",
    "            _, yhat = torch.max(z.data, 1)\n",
    "            correct += (yhat == y_test).sum().item()\n",
    "            \n",
    "        accuracy = correct/N_test\n",
    "        accuracy_list.append(accuracy)\n",
    "        \n",
    "        print(f\"{epoch+1}/{n_epochs}  loss: {loss.data}   accuracy: {accuracy*100}%\")"
   ]
  },
  {
   "cell_type": "code",
   "execution_count": 67,
   "id": "f68e1a71-39d4-4f13-a760-30d9484bc462",
   "metadata": {
    "tags": []
   },
   "outputs": [
    {
     "name": "stdout",
     "output_type": "stream",
     "text": [
      "1/5  loss: 0.2528516352176666   accuracy: 86.52%\n",
      "2/5  loss: 0.23409897089004517   accuracy: 86.95%\n",
      "3/5  loss: 0.2180192768573761   accuracy: 87.22999999999999%\n",
      "4/5  loss: 0.20120586454868317   accuracy: 87.6%\n",
      "5/5  loss: 0.19626231491565704   accuracy: 87.83%\n"
     ]
    }
   ],
   "source": [
    "train_model(n_epochs)"
   ]
  },
  {
   "cell_type": "code",
   "execution_count": 69,
   "id": "428c0dfb-66c3-438f-9d84-e0871d50dd78",
   "metadata": {
    "tags": []
   },
   "outputs": [
    {
     "data": {
      "image/png": "[encoded data removed]",
      "text/plain": [
       "<Figure size 640x480 with 1 Axes>"
      ]
     },
     "metadata": {},
     "output_type": "display_data"
    }
   ],
   "source": [
    "show_data(train_dataset[18])"
   ]
  },
  {
   "cell_type": "code",
   "execution_count": 84,
   "id": "64633a7d-6163-4391-9f53-8886075c6942",
   "metadata": {
    "tags": []
   },
   "outputs": [],
   "source": [
    "def check(data_sample):\n",
    "    show_data(data_sample)\n",
    "    resize = data_sample[0].view(1, 1, img_size, img_size)\n",
    "    output = model(resize)\n",
    "    \n",
    "    _, label = torch.max(output.data, 1)\n",
    "    label = label.item()\n",
    "    classes[label]"
   ]
  },
  {
   "cell_type": "code",
   "execution_count": 90,
   "id": "6b524bb7-c0a5-46aa-b393-6bed9455049b",
   "metadata": {},
   "outputs": [
    {
     "data": {
      "image/png": "[encoded data removed]",
      "text/plain": [
       "<Figure size 640x480 with 1 Axes>"
      ]
     },
     "metadata": {},
     "output_type": "display_data"
    }
   ],
   "source": [
    "rand = random.randrange(0, 100)\n",
    "check(validation_dataset[rand])"
   ]
  },
  {
   "cell_type": "code",
   "execution_count": null,
   "id": "311aa9c1-b1a1-46d1-8180-c19b4315846b",
   "metadata": {},
   "outputs": [],
   "source": []
  }
 ],
 "metadata": {
  "kernelspec": {
   "display_name": "Python 3 (ipykernel)",
   "language": "python",
   "name": "python3"
  },
  "language_info": {
   "codemirror_mode": {
    "name": "ipython",
    "version": 3
   },
   "file_extension": ".py",
   "mimetype": "text/x-python",
   "name": "python",
   "nbconvert_exporter": "python",
   "pygments_lexer": "ipython3",
   "version": "3.8.10"
  }
 },
 "nbformat": 4,
 "nbformat_minor": 5
}
