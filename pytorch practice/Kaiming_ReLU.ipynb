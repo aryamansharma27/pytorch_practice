{
 "cells": [
  {
   "cell_type": "code",
   "execution_count": 1,
   "id": "339eb9b1-1f3a-40ef-8330-170c444eb10c",
   "metadata": {
    "tags": []
   },
   "outputs": [],
   "source": [
    "import torch\n",
    "import torch.nn as nn\n",
    "import numpy as np\n",
    "import matplotlib.pyplot as plt\n",
    "import torchvision.datasets as dsets\n",
    "import torch.nn.functional as F\n",
    "import torchvision.transforms as transforms"
   ]
  },
  {
   "cell_type": "code",
   "execution_count": 5,
   "id": "daeee986-13ab-4d63-8d6d-e37da89f5e76",
   "metadata": {
    "tags": []
   },
   "outputs": [],
   "source": [
    "class Net_He(nn.Module):\n",
    "    def __init__(self, Layers):\n",
    "        super(Net_He, self).__init__()\n",
    "        self.hidden = nn.ModuleList()\n",
    "        \n",
    "        for input_size, output_size in zip(Layers, Layers[1:]):\n",
    "            linear = nn.Linear(input_size, output_size)\n",
    "            torch.nn.init.kaiming_uniform_(linear.weight, nonlinearity = 'relu')\n",
    "            self.hidden.append(linear)\n",
    "            \n",
    "    def forward(self, x):\n",
    "        L = len(self.hidden)\n",
    "        \n",
    "        for (l, linear_transform) in zip(range(L), self.hidden):\n",
    "            if l < L-1:\n",
    "                x = F.relu(linear_transform(x))\n",
    "            else:\n",
    "                x = linear_transform(x)\n",
    "                \n",
    "        return x"
   ]
  },
  {
   "cell_type": "code",
   "execution_count": 20,
   "id": "f4849fa7-dccc-4e76-b6b1-12c3677eb185",
   "metadata": {
    "tags": []
   },
   "outputs": [],
   "source": [
    "class Net_Uniform(nn.Module):\n",
    "    def __init__(self, Layers):\n",
    "        super(Net_Uniform, self).__init__()\n",
    "        self.hidden = nn.ModuleList()\n",
    "        \n",
    "        for input_size, output_size in zip(Layers, Layers[1:]):\n",
    "            linear = nn.Linear(input_size, output_size)\n",
    "            linear.weight.data.uniform_(0, 1)\n",
    "            self.hidden.append(linear)\n",
    "            \n",
    "    def forward(self, x):\n",
    "        L = len(self.hidden)\n",
    "        \n",
    "        for (l, linear_transform) in zip(range(L), self.hidden):\n",
    "            if l < L-1:\n",
    "                x = F.relu(linear_transform(x))\n",
    "            else:\n",
    "                x = linear_transform(x)\n",
    "                \n",
    "        return(x) "
   ]
  },
  {
   "cell_type": "code",
   "execution_count": 21,
   "id": "e67f6896-4e9c-44ff-ae49-296526bf40a8",
   "metadata": {
    "tags": []
   },
   "outputs": [],
   "source": [
    "class Net(nn.Module):\n",
    "    \n",
    "    def __init__(self, Layers):\n",
    "        super(Net, self).__init__()\n",
    "        self.hidden = nn.ModuleList()\n",
    "\n",
    "        for input_size, output_size in zip(Layers, Layers[1:]):\n",
    "            linear = nn.Linear(input_size, output_size)\n",
    "            self.hidden.append(linear)\n",
    "        \n",
    "    def forward(self, x):\n",
    "        L=len(self.hidden)\n",
    "        for (l, linear_transform) in zip(range(L), self.hidden):\n",
    "            if l < L - 1:\n",
    "                x = F.relu(linear_transform(x))\n",
    "            else:\n",
    "                x = linear_transform(x)\n",
    "                \n",
    "        return x"
   ]
  },
  {
   "cell_type": "code",
   "execution_count": 36,
   "id": "08d17645-d9d6-4932-84b0-3e8323a1e377",
   "metadata": {
    "tags": []
   },
   "outputs": [],
   "source": [
    "def train(model, criterion, train_loader, validation_loader, optimizer, epochs = 100):\n",
    "    i = 0\n",
    "    loss_accuracy = {'training_loss': [], 'validation_accuracy': []}\n",
    "    \n",
    "    for epoch in range(epochs):\n",
    "        for i, (x, y) in enumerate(train_loader):\n",
    "            optimizer.zero_grad()\n",
    "            z = model(x.view(-1, 28*28))\n",
    "            \n",
    "            loss = criterion(z, y)\n",
    "            \n",
    "            loss.backward()\n",
    "            optimizer.step()\n",
    "            \n",
    "            loss_accuracy['training_loss'].append(loss.data.item())\n",
    "            \n",
    "        correct = 0\n",
    "        for x, y in validation_loader:\n",
    "            yhat = model(x.view(-1, 28*28))\n",
    "            _, label = torch.max(yhat, 1)\n",
    "            correct += (label == y).sum().item()\n",
    "            \n",
    "        accuracy = 100 * (correct/len(validation_dataset))\n",
    "        loss_accuracy['validation_accuracy'].append(accuracy)\n",
    "        \n",
    "        print(f\"Epoch [{epoch+1}/{epochs}] - Loss: {loss:.4f} - Accuracy:{accuracy:.2f}%\")\n",
    "        \n",
    "    return loss_accuracy\n",
    "            \n",
    "            "
   ]
  },
  {
   "cell_type": "code",
   "execution_count": 37,
   "id": "8622c735-d190-4afa-a2c6-437f74cc7da7",
   "metadata": {
    "tags": []
   },
   "outputs": [],
   "source": [
    "train_dataset = dsets.MNIST(root = './data', train = True, transform = transforms.ToTensor())"
   ]
  },
  {
   "cell_type": "code",
   "execution_count": 38,
   "id": "7dc996d8-02c8-4dbd-9415-87a3e13cbfeb",
   "metadata": {
    "tags": []
   },
   "outputs": [],
   "source": [
    "validation_dataset = dsets.MNIST(root='./data', train=False, transform=transforms.ToTensor())"
   ]
  },
  {
   "cell_type": "code",
   "execution_count": 39,
   "id": "ecdab288-21c4-40a8-a665-e20e9246a82e",
   "metadata": {
    "tags": []
   },
   "outputs": [],
   "source": [
    "train_loader = torch.utils.data.DataLoader(dataset=train_dataset, batch_size=2000, shuffle=True)\n",
    "validation_loader = torch.utils.data.DataLoader(dataset=validation_dataset, batch_size=5000, shuffle=False)"
   ]
  },
  {
   "cell_type": "code",
   "execution_count": 40,
   "id": "41ed8db0-43cc-46e0-8601-d8d3039083b0",
   "metadata": {
    "tags": []
   },
   "outputs": [],
   "source": [
    "criterion = nn.CrossEntropyLoss()"
   ]
  },
  {
   "cell_type": "code",
   "execution_count": 41,
   "id": "37fb7fee-3fef-4952-85a6-6c1baa48d3ee",
   "metadata": {
    "tags": []
   },
   "outputs": [],
   "source": [
    "input_size = 28*28\n",
    "output_size = 10\n",
    "learning_rate = 0.01\n",
    "layers = [input_size, 100, 10, 100, 10, output_size]\n",
    "epochs = 15"
   ]
  },
  {
   "cell_type": "code",
   "execution_count": 42,
   "id": "4d28a9f3-a16e-414e-8acc-02585e1fb8f0",
   "metadata": {
    "tags": []
   },
   "outputs": [],
   "source": [
    "model_net = Net(layers)\n",
    "\n",
    "model_He = Net_He(layers)\n",
    "\n",
    "model_Uniform = Net_Uniform(layers)"
   ]
  },
  {
   "cell_type": "code",
   "execution_count": 43,
   "id": "9f2af439-ffbf-4807-9f4d-fd07defcb329",
   "metadata": {
    "tags": []
   },
   "outputs": [],
   "source": [
    "optimizer_net = torch.optim.SGD(model_net.parameters(), lr = learning_rate)\n",
    "\n",
    "optimizer_He = torch.optim.SGD(model_He.parameters(), lr = learning_rate)\n",
    "\n",
    "optimizer_Uniform = torch.optim.SGD(model_Uniform.parameters(), lr = learning_rate)"
   ]
  },
  {
   "cell_type": "code",
   "execution_count": 44,
   "id": "22f5566a-eb89-4fd0-ad57-57061eb9d646",
   "metadata": {
    "tags": []
   },
   "outputs": [
    {
     "name": "stdout",
     "output_type": "stream",
     "text": [
      "Epoch [1/15] - Loss: 2.3221 - Accuracy:10.32%\n",
      "Epoch [2/15] - Loss: 2.3245 - Accuracy:10.32%\n",
      "Epoch [3/15] - Loss: 2.3110 - Accuracy:10.32%\n",
      "Epoch [4/15] - Loss: 2.3135 - Accuracy:10.32%\n",
      "Epoch [5/15] - Loss: 2.3123 - Accuracy:10.32%\n",
      "Epoch [6/15] - Loss: 2.3167 - Accuracy:10.32%\n",
      "Epoch [7/15] - Loss: 2.3164 - Accuracy:10.32%\n",
      "Epoch [8/15] - Loss: 2.3111 - Accuracy:10.32%\n",
      "Epoch [9/15] - Loss: 2.3085 - Accuracy:10.32%\n",
      "Epoch [10/15] - Loss: 2.3106 - Accuracy:10.32%\n",
      "Epoch [11/15] - Loss: 2.3068 - Accuracy:10.32%\n",
      "Epoch [12/15] - Loss: 2.3049 - Accuracy:10.32%\n",
      "Epoch [13/15] - Loss: 2.3049 - Accuracy:10.32%\n",
      "Epoch [14/15] - Loss: 2.3060 - Accuracy:10.32%\n",
      "Epoch [15/15] - Loss: 2.3069 - Accuracy:10.32%\n",
      "Epoch [1/15] - Loss: 2.2110 - Accuracy:17.93%\n",
      "Epoch [2/15] - Loss: 2.0755 - Accuracy:24.98%\n",
      "Epoch [3/15] - Loss: 1.9053 - Accuracy:33.26%\n",
      "Epoch [4/15] - Loss: 1.6920 - Accuracy:46.74%\n",
      "Epoch [5/15] - Loss: 1.4728 - Accuracy:57.13%\n",
      "Epoch [6/15] - Loss: 1.2692 - Accuracy:63.78%\n",
      "Epoch [7/15] - Loss: 1.0721 - Accuracy:68.34%\n",
      "Epoch [8/15] - Loss: 0.9788 - Accuracy:73.52%\n",
      "Epoch [9/15] - Loss: 0.8308 - Accuracy:77.74%\n",
      "Epoch [10/15] - Loss: 0.7487 - Accuracy:80.16%\n",
      "Epoch [11/15] - Loss: 0.6835 - Accuracy:81.31%\n",
      "Epoch [12/15] - Loss: 0.6657 - Accuracy:82.36%\n",
      "Epoch [13/15] - Loss: 0.6107 - Accuracy:83.18%\n",
      "Epoch [14/15] - Loss: 0.5815 - Accuracy:83.98%\n",
      "Epoch [15/15] - Loss: 0.5566 - Accuracy:84.57%\n",
      "Epoch [1/15] - Loss: 2.3192 - Accuracy:10.10%\n",
      "Epoch [2/15] - Loss: 2.3129 - Accuracy:10.10%\n",
      "Epoch [3/15] - Loss: 2.3156 - Accuracy:10.10%\n",
      "Epoch [4/15] - Loss: 2.3156 - Accuracy:10.10%\n",
      "Epoch [5/15] - Loss: 2.3158 - Accuracy:10.10%\n",
      "Epoch [6/15] - Loss: 2.3115 - Accuracy:10.10%\n",
      "Epoch [7/15] - Loss: 2.3118 - Accuracy:10.10%\n",
      "Epoch [8/15] - Loss: 2.3068 - Accuracy:10.10%\n",
      "Epoch [9/15] - Loss: 2.3128 - Accuracy:10.10%\n",
      "Epoch [10/15] - Loss: 2.3120 - Accuracy:10.10%\n",
      "Epoch [11/15] - Loss: 2.3045 - Accuracy:10.10%\n",
      "Epoch [12/15] - Loss: 2.3073 - Accuracy:10.10%\n",
      "Epoch [13/15] - Loss: 2.3105 - Accuracy:10.10%\n",
      "Epoch [14/15] - Loss: 2.3075 - Accuracy:10.10%\n",
      "Epoch [15/15] - Loss: 2.3091 - Accuracy:10.10%\n"
     ]
    }
   ],
   "source": [
    "loss_accuracy_net = train(model_net, criterion, train_loader, validation_loader, optimizer_net, epochs = 15)\n",
    "\n",
    "loss_accuracy_He = train(model_He, criterion, train_loader, validation_loader, optimizer_He, epochs = 15)\n",
    "\n",
    "loss_accuracy_Uniform = train(model_Uniform, criterion, train_loader, validation_loader, optimizer_Uniform, epochs = 15)\n"
   ]
  },
  {
   "cell_type": "code",
   "execution_count": 51,
   "id": "d9bbec83-2b10-45ec-ada7-12e6ac4fb14c",
   "metadata": {
    "tags": []
   },
   "outputs": [
    {
     "data": {
      "image/png": "[encoded data removed]",
      "text/plain": [
       "<Figure size 640x480 with 1 Axes>"
      ]
     },
     "metadata": {},
     "output_type": "display_data"
    }
   ],
   "source": [
    "plt.plot(loss_accuracy_net['training_loss'], label = 'default')\n",
    "plt.plot(loss_accuracy_He['training_loss'], label = 'He')\n",
    "plt.plot(loss_accuracy_Uniform['training_loss'], label = 'uniform')\n",
    "plt.xlabel('iteration')\n",
    "plt.ylabel('loss')\n",
    "plt.title('training loss iterations')\n",
    "plt.legend()\n",
    "plt.show()"
   ]
  },
  {
   "cell_type": "code",
   "execution_count": 47,
   "id": "0dcf7f50-d0bc-4b28-810a-17aba0d98ee7",
   "metadata": {
    "tags": []
   },
   "outputs": [
    {
     "data": {
      "image/png": "[encoded data removed]",
      "text/plain": [
       "<Figure size 640x480 with 1 Axes>"
      ]
     },
     "metadata": {},
     "output_type": "display_data"
    }
   ],
   "source": [
    "plt.plot(loss_accuracy_net['validation_accuracy'], label = 'default')\n",
    "plt.plot(loss_accuracy_He['validation_accuracy'], label = 'He')\n",
    "plt.plot(loss_accuracy_Uniform['validation_accuracy'], label = 'uniform')\n",
    "plt.xlabel('epoch')\n",
    "plt.ylabel('validation accuracy')\n",
    "plt.title('validation accuracy iterations')\n",
    "plt.legend()\n",
    "plt.show()"
   ]
  },
  {
   "cell_type": "code",
   "execution_count": 72,
   "id": "a8fd3382-74b9-4858-877c-4339cf0b7efe",
   "metadata": {
    "tags": []
   },
   "outputs": [],
   "source": [
    "test_dataset = dsets.MNIST(root='./data', train=False, transform = transforms.ToTensor(), download=True)\n",
    "test_loader = torch.utils.data.DataLoader(dataset = test_dataset, batch_size=100, shuffle=False)"
   ]
  },
  {
   "cell_type": "code",
   "execution_count": 76,
   "id": "d5a53b21-d56e-4257-b169-8bac043b9b41",
   "metadata": {
    "tags": []
   },
   "outputs": [
    {
     "name": "stdout",
     "output_type": "stream",
     "text": [
      "Accuracy on the test set: 84.57%\n"
     ]
    }
   ],
   "source": [
    "correct = 0\n",
    "total = 0\n",
    "\n",
    "with torch.no_grad():\n",
    "    for images, labels in test_loader:\n",
    "        outputs = model_He(images.view(-1, 28*28))\n",
    "        _, predicted = torch.max(outputs.data, 1)\n",
    "        total += labels.size(0)\n",
    "        correct += (predicted == labels).sum().item()\n",
    "\n",
    "accuracy = correct / total\n",
    "print(f'Accuracy on the test set: {100 * accuracy:.2f}%')\n"
   ]
  }
 ],
 "metadata": {
  "kernelspec": {
   "display_name": "Python 3 (ipykernel)",
   "language": "python",
   "name": "python3"
  },
  "language_info": {
   "codemirror_mode": {
    "name": "ipython",
    "version": 3
   },
   "file_extension": ".py",
   "mimetype": "text/x-python",
   "name": "python",
   "nbconvert_exporter": "python",
   "pygments_lexer": "ipython3",
   "version": "3.8.10"
  }
 },
 "nbformat": 4,
 "nbformat_minor": 5
}
