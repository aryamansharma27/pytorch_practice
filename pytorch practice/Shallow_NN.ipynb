{
 "cells": [
  {
   "cell_type": "code",
   "execution_count": 139,
   "id": "d5ced20d-6ce8-44dc-bfcf-d91466a56f9d",
   "metadata": {
    "tags": []
   },
   "outputs": [
    {
     "data": {
      "text/plain": [
       "<torch._C.Generator at 0x7f3f650396d0>"
      ]
     },
     "execution_count": 139,
     "metadata": {},
     "output_type": "execute_result"
    }
   ],
   "source": [
    "import torch\n",
    "from torch import nn\n",
    "import matplotlib.pylab as plt\n",
    "import numpy as np\n",
    "torch.manual_seed(0)"
   ]
  },
  {
   "cell_type": "code",
   "execution_count": 140,
   "id": "eafa8289-6304-4caa-9614-bc220ba41833",
   "metadata": {
    "tags": []
   },
   "outputs": [],
   "source": [
    "def PlotStuff(X, Y, model, epoch, leg=True):\n",
    "    \n",
    "    plt.plot(X.numpy(), model(X).detach().numpy(), label=('epoch ' + str(epoch)))\n",
    "    plt.plot(X.numpy(), Y.numpy(), 'r')\n",
    "    plt.xlabel('x')\n",
    "    if leg == True:\n",
    "        plt.legend()\n",
    "    else:\n",
    "        pass"
   ]
  },
  {
   "cell_type": "code",
   "execution_count": 141,
   "id": "be664413-ff9d-4a5d-8041-53f53b9b8b40",
   "metadata": {
    "tags": []
   },
   "outputs": [],
   "source": [
    "class Net(nn.Module):\n",
    "    def __init__(self, D_in, H, D_out):\n",
    "        super(Net, self).__init__()\n",
    "        \n",
    "        self.linear1 = nn.Linear(D_in, H)\n",
    "        self.linear2 = nn.Linear(H, D_out)\n",
    "        self.sigmoid = nn.Sigmoid()\n",
    "        \n",
    "        self.a1 = None\n",
    "        self.l1 = None\n",
    "        self.l2 = None\n",
    "        \n",
    "    def forward(self, x):\n",
    "        self.l1 = self.linear1(x)\n",
    "        self.a1 = self.sigmoid(self.l1)\n",
    "        self.l2 = self.linear2(self.a1)\n",
    "        yhat = self.sigmoid(self.l2)\n",
    "        \n",
    "        return yhat"
   ]
  },
  {
   "cell_type": "code",
   "execution_count": 142,
   "id": "7931389b-fc10-4c6f-bd8a-8e2fdde2e128",
   "metadata": {
    "tags": []
   },
   "outputs": [],
   "source": [
    "def train(Y, X, model, optimizer, criterion, epochs = 1000):\n",
    "    cost = []\n",
    "    total = 0\n",
    "    \n",
    "    for epoch in range(epochs):\n",
    "        total = 0\n",
    "        for y, x in zip(Y, X):\n",
    "            yhat = model(x)\n",
    "            \n",
    "            loss = criterion(yhat, y)\n",
    "            loss.backward()\n",
    "            \n",
    "            optimizer.step()\n",
    "            optimizer.zero_grad()\n",
    "            \n",
    "            total += loss.item()\n",
    "        cost.append(total)\n",
    "            \n",
    "        '''\n",
    "        if epoch % 300 == 0:    \n",
    "            PlotStuff(X, Y, model, epoch, leg=True)\n",
    "            plt.show()\n",
    "            model(X)\n",
    "            plt.scatter(model.a1.detach().numpy()[:, 0], model.a1.detach().numpy()[:, 1], c=Y.numpy().reshape(-1))\n",
    "            plt.title('activations')\n",
    "            plt.show()\n",
    "            \n",
    "        '''\n",
    "    return cost, yhat\n",
    "    \n",
    "            "
   ]
  },
  {
   "cell_type": "code",
   "execution_count": 158,
   "id": "f0941799-e525-4469-8041-ec3506ea7320",
   "metadata": {
    "tags": []
   },
   "outputs": [
    {
     "data": {
      "text/plain": [
       "torch.Size([40, 1])"
      ]
     },
     "execution_count": 158,
     "metadata": {},
     "output_type": "execute_result"
    }
   ],
   "source": [
    "X = torch.arange(-20, 20, 1).view(-1, 1).type(torch.FloatTensor)\n",
    "Y = torch.zeros(X.shape[0])\n",
    "Y[(X[:, 0] > -4) & (X[:, 0] < 4)] = 1.0\n",
    "X.shape"
   ]
  },
  {
   "cell_type": "code",
   "execution_count": 144,
   "id": "dda6e64a-671f-42aa-9b08-3f85341f7070",
   "metadata": {
    "tags": []
   },
   "outputs": [],
   "source": [
    "def criterion_cross(outputs, labels):\n",
    "    out = -1*torch.mean(labels*torch.log(outputs) + (1-labels)*torch.log(1-outputs))\n",
    "    return out"
   ]
  },
  {
   "cell_type": "code",
   "execution_count": 145,
   "id": "e496d7e5-6251-4dc1-9020-54fb286fdf99",
   "metadata": {
    "tags": []
   },
   "outputs": [
    {
     "data": {
      "text/plain": [
       "torch.Size([40, 1])"
      ]
     },
     "execution_count": 145,
     "metadata": {},
     "output_type": "execute_result"
    }
   ],
   "source": [
    "X.shape"
   ]
  },
  {
   "cell_type": "code",
   "execution_count": 146,
   "id": "d1b2d822-0cf3-4358-881f-66fc3350e980",
   "metadata": {
    "tags": []
   },
   "outputs": [],
   "source": [
    "D_in = 1\n",
    "H = 2\n",
    "D_out = 1\n",
    "l_r = 0.1\n",
    "\n",
    "model = Net(D_in, H, D_out)\n",
    "optimizer = torch.optim.SGD(model.parameters(), lr = l_r)\n",
    "cost_cross, yhat = train(Y, X, model, optimizer, criterion_cross, epochs = 1000)\n",
    "\n",
    "#plt.plot(cost_cross)\n",
    "#plt.xlabel('epoch')\n",
    "#plt.title('cross entropy loss')"
   ]
  },
  {
   "cell_type": "code",
   "execution_count": 151,
   "id": "a76553c5-0d08-433a-8ffa-ebbee3976f3b",
   "metadata": {
    "tags": []
   },
   "outputs": [
    {
     "data": {
      "text/plain": [
       "0.15031579456990585"
      ]
     },
     "execution_count": 151,
     "metadata": {},
     "output_type": "execute_result"
    }
   ],
   "source": [
    "cost_cross[-1]"
   ]
  },
  {
   "cell_type": "code",
   "execution_count": 165,
   "id": "6f219de7-78b6-4fde-bfb9-df3aca9ed638",
   "metadata": {
    "tags": []
   },
   "outputs": [
    {
     "name": "stdout",
     "output_type": "stream",
     "text": [
      "Input: -20.00, Predicted Class: 0.0\n",
      "Input: -19.00, Predicted Class: 0.0\n",
      "Input: -18.00, Predicted Class: 0.0\n",
      "Input: -17.00, Predicted Class: 0.0\n",
      "Input: -16.00, Predicted Class: 0.0\n",
      "Input: -15.00, Predicted Class: 0.0\n",
      "Input: -14.00, Predicted Class: 0.0\n",
      "Input: -13.00, Predicted Class: 0.0\n",
      "Input: -12.00, Predicted Class: 0.0\n",
      "Input: -11.00, Predicted Class: 0.0\n",
      "Input: -10.00, Predicted Class: 0.0\n",
      "Input: -9.00, Predicted Class: 0.0\n",
      "Input: -8.00, Predicted Class: 0.0\n",
      "Input: -7.00, Predicted Class: 0.0\n",
      "Input: -6.00, Predicted Class: 0.0\n",
      "Input: -5.00, Predicted Class: 0.0\n",
      "Input: -4.00, Predicted Class: 0.0\n",
      "Input: -3.00, Predicted Class: 1.0\n",
      "Input: -2.00, Predicted Class: 1.0\n",
      "Input: -1.00, Predicted Class: 1.0\n",
      "Input: 0.00, Predicted Class: 1.0\n",
      "Input: 1.00, Predicted Class: 1.0\n",
      "Input: 2.00, Predicted Class: 1.0\n",
      "Input: 3.00, Predicted Class: 1.0\n",
      "Input: 4.00, Predicted Class: 0.0\n",
      "Input: 5.00, Predicted Class: 0.0\n",
      "Input: 6.00, Predicted Class: 0.0\n",
      "Input: 7.00, Predicted Class: 0.0\n",
      "Input: 8.00, Predicted Class: 0.0\n",
      "Input: 9.00, Predicted Class: 0.0\n",
      "Input: 10.00, Predicted Class: 0.0\n",
      "Input: 11.00, Predicted Class: 0.0\n",
      "Input: 12.00, Predicted Class: 0.0\n",
      "Input: 13.00, Predicted Class: 0.0\n",
      "Input: 14.00, Predicted Class: 0.0\n",
      "Input: 15.00, Predicted Class: 0.0\n",
      "Input: 16.00, Predicted Class: 0.0\n",
      "Input: 17.00, Predicted Class: 0.0\n",
      "Input: 18.00, Predicted Class: 0.0\n",
      "Input: 19.00, Predicted Class: 0.0\n"
     ]
    }
   ],
   "source": [
    "with torch.no_grad():\n",
    "    outputs = model(X)\n",
    "\n",
    "predictions = (outputs >= 0.5).float()\n",
    "\n",
    "for x, pred in zip(X, predictions):\n",
    "    print(f\"Input: {x.item():.2f}, Predicted Class: {pred.item()}\")\n"
   ]
  },
  {
   "cell_type": "code",
   "execution_count": null,
   "id": "e207da97-0705-48a8-ab83-f5204666c3e9",
   "metadata": {},
   "outputs": [],
   "source": []
  }
 ],
 "metadata": {
  "kernelspec": {
   "display_name": "Python 3 (ipykernel)",
   "language": "python",
   "name": "python3"
  },
  "language_info": {
   "codemirror_mode": {
    "name": "ipython",
    "version": 3
   },
   "file_extension": ".py",
   "mimetype": "text/x-python",
   "name": "python",
   "nbconvert_exporter": "python",
   "pygments_lexer": "ipython3",
   "version": "3.8.10"
  }
 },
 "nbformat": 4,
 "nbformat_minor": 5
}
